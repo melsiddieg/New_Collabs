{
  "cells": [
    {
      "cell_type": "markdown",
      "metadata": {
        "id": "view-in-github",
        "colab_type": "text"
      },
      "source": [
        "<a href=\"https://colab.research.google.com/github/melsiddieg/New_Collabs/blob/master/Copy_of_Finetuning_ORCA.ipynb\" target=\"_parent\"><img src=\"https://colab.research.google.com/assets/colab-badge.svg\" alt=\"Open In Colab\"/></a>"
      ]
    },
    {
      "cell_type": "markdown",
      "metadata": {
        "id": "NTY1Uq9FGzeJ"
      },
      "source": [
        "#Fin-tunig a model on ORCA\n",
        "<img src=\"https://orca.dlnlp.ai/assets/orca_logo.png\" width=\"50%\"/>\n",
        "\n",
        "**ORCA** is a large-scale Arabic Language Understanding Evaluation Benchmark\n",
        "\n",
        "**Website:** https://orcs.dlnlp.ai/"
      ]
    },
    {
      "cell_type": "markdown",
      "metadata": {
        "id": "tfdQOSseIS-8"
      },
      "source": [
        "## Intordction\n",
        "ORCA has 29 tasks that can categorze into three types. Token-level, Text- Cassificaion and Question Answering traniers. In this notebook, we show how to use these trainiers. As examples, we fine-tune `MARBERTv2` on ORCA's tasks for ONLY 3 epochs as well."
      ]
    },
    {
      "cell_type": "markdown",
      "metadata": {
        "id": "kVszmWE7IwK5"
      },
      "source": [
        "##Install Requirments"
      ]
    },
    {
      "cell_type": "code",
      "execution_count": null,
      "metadata": {
        "id": "XlSBq8uvIvV9"
      },
      "outputs": [],
      "source": [
        "!pip install datasets transformers seqeval accelerate"
      ]
    },
    {
      "cell_type": "markdown",
      "source": [
        "## Request Access ##\n",
        "To obtain access to the ORCA benchmark on Huggingface, follow the following steps:\n",
        "- Login on your Haggingface account\n",
        "\n",
        "  <img src=\"https://raw.githubusercontent.com/UBC-NLP/orca/main/orca_request1.png\" width=\"55%\"/>\n",
        "- Request access\n",
        "\n",
        "  <img src=\"https://raw.githubusercontent.com/UBC-NLP/orca/main/orca_request2.png\" width=\"55%\"/>"
      ],
      "metadata": {
        "id": "jIM4Q0GaMHbW"
      }
    },
    {
      "cell_type": "code",
      "source": [
        "!huggingface-cli login --token \"YOUR_TOKEN\""
      ],
      "metadata": {
        "id": "aHIgxioGK1_z"
      },
      "execution_count": null,
      "outputs": []
    },
    {
      "cell_type": "markdown",
      "source": [
        "## Download the fine-tuning code"
      ],
      "metadata": {
        "id": "VB4JAkpANpxN"
      }
    },
    {
      "cell_type": "code",
      "execution_count": null,
      "metadata": {
        "colab": {
          "base_uri": "https://localhost:8080/"
        },
        "id": "IDzbJGynT64C",
        "outputId": "76e4df27-c6e9-41cb-b38c-21cf16b78271"
      },
      "outputs": [
        {
          "output_type": "stream",
          "name": "stdout",
          "text": [
            "Cloning into 'orca'...\n",
            "remote: Enumerating objects: 220, done.\u001b[K\n",
            "remote: Counting objects: 100% (85/85), done.\u001b[K\n",
            "remote: Compressing objects: 100% (74/74), done.\u001b[K\n",
            "remote: Total 220 (delta 62), reused 11 (delta 11), pack-reused 135\u001b[K\n",
            "Receiving objects: 100% (220/220), 93.41 KiB | 6.67 MiB/s, done.\n",
            "Resolving deltas: 100% (128/128), done.\n"
          ]
        }
      ],
      "source": [
        "!git clone https://github.com/UBC-NLP/orca.git"
      ]
    },
    {
      "cell_type": "code",
      "execution_count": null,
      "metadata": {
        "colab": {
          "base_uri": "https://localhost:8080/"
        },
        "id": "T6gOH325aEfg",
        "outputId": "c76f31c9-2b15-40e5-b209-569dd915744f"
      },
      "outputs": [
        {
          "output_type": "stream",
          "name": "stdout",
          "text": [
            "/content/orca/fine-tuning_code\n"
          ]
        }
      ],
      "source": [
        "%cd /content/orca/fine-tuning_code"
      ]
    },
    {
      "cell_type": "markdown",
      "metadata": {
        "id": "nnwffR0WKGUU"
      },
      "source": [
        "## Fine-tuning a model on token-level taks\n",
        "ORCA has 4 token-level datasets, they are `arabic-ner`, `aqmar-ner`, `msa-pos`, and `dialect-pos'"
      ]
    },
    {
      "cell_type": "code",
      "execution_count": null,
      "metadata": {
        "id": "WctLP9MY-hdk"
      },
      "outputs": [],
      "source": []
    },
    {
      "cell_type": "code",
      "execution_count": null,
      "metadata": {
        "id": "xyTBOJ3XCKA6"
      },
      "outputs": [],
      "source": [
        "task='dialect-pos' #task should be on of these tasks ['arabic-ner', 'aqmar-ner', 'msa-pos', 'dialect-pos']\n",
        "cache_dir='./cache'\n",
        "le=5e-5\n",
        "batch_size=32\n",
        "model_name='UBC-NLP/ARBERTv2'\n",
        "output_dir='./output/'+task\n",
        "epochs_num=1\n",
        "metric_for_best_model=\"eval_f1\"\n",
        "seed=41\n"
      ]
    },
    {
      "cell_type": "code",
      "execution_count": null,
      "metadata": {
        "id": "r7ptuORcM36h"
      },
      "outputs": [],
      "source": [
        "!python run_orca_tokens_trainer.py \\\n",
        "        --dataset_name \"UBC-NLP/orca\" \\\n",
        "        --dataset_config_name $task \\\n",
        "        --cache_dir $cache_dir \\\n",
        "        --learning_rate $le \\\n",
        "        --per_device_train_batch_size $batch_size \\\n",
        "        --per_device_eval_batch_size $batch_size \\\n",
        "        --model_name_or_path  $model_name \\\n",
        "        --output_dir $output_dir \\\n",
        "        --num_train_epochs $epochs_num \\\n",
        "        --do_train \\\n",
        "        --do_eval \\\n",
        "        --do_predict \\\n",
        "        --evaluation_strategy epoch \\\n",
        "        --logging_strategy epoch \\\n",
        "        --save_strategy epoch \\\n",
        "        --load_best_model_at_end \\\n",
        "        --metric_for_best_model $metric_for_best_model \\\n",
        "        --greater_is_better True \\\n",
        "        --save_total_limit 3 \\\n",
        "        --seed $seed --overwrite_output_dir"
      ]
    },
    {
      "cell_type": "markdown",
      "metadata": {
        "id": "xDzBuWs9Se6s"
      },
      "source": [
        "## Fine-tuning a model on text classification taks\n",
        "ORCA has 24 token-level datasets, they are\n",
        "`sentiment`, `dialect-region`, `dialect-binary`, `dialect-country`, `topic`, `ans-claim`, `machine-generation`,`age`, `gender`, `adult`, `dangerous`, `emotion`,`hate-speech`,`offensive`,`irony`,`sarcasm`,`abusive`, `wsd`, `mq2q`, `ans-stance`, `baly-stance`,`xlni`,`sts`, and `emotion-reg`"
      ]
    },
    {
      "cell_type": "code",
      "execution_count": null,
      "metadata": {
        "id": "cPtUWJrLYv4N"
      },
      "outputs": [],
      "source": [
        "task='hate-speech'\n",
        "cache_dir='./cache'\n",
        "le=5e-5\n",
        "batch_size=8\n",
        "model_name='UBC-NLP/ARBERTv2'\n",
        "output_dir='./output5/'+task\n",
        "epochs_num=1\n",
        "metric_for_best_model=\"eval_f1\" # eval_spearmanr is the evaluation matric for these tasks ['sts', 'emotion-reg'], and eval_f1 for the rest.\n",
        "seed=41\n",
        "sq=512"
      ]
    },
    {
      "cell_type": "code",
      "execution_count": null,
      "metadata": {
        "colab": {
          "background_save": true
        },
        "id": "70FNFWawCaoo"
      },
      "outputs": [],
      "source": [
        "!python run_orca_text_classification_wz_reg.py \\\n",
        "        --dataset_name \"UBC-NLP/orca\" \\\n",
        "        --task_name $task \\\n",
        "        --cache_dir $cache_dir \\\n",
        "        --learning_rate $le \\\n",
        "        --per_device_train_batch_size $batch_size --per_device_eval_batch_size $batch_size \\\n",
        "        --model_name_or_path  $model_name \\\n",
        "        --output_dir $output_dir \\\n",
        "        --num_train_epochs $epochs_num \\\n",
        "        --do_train \\\n",
        "        --do_eval \\\n",
        "        --do_predict \\\n",
        "        --max_seq_length $sq \\\n",
        "        --evaluation_strategy epoch --logging_strategy epoch --save_strategy epoch \\\n",
        "        --load_best_model_at_end --metric_for_best_model $metric_for_best_model --greater_is_better True \\\n",
        "        --save_total_limit 3 --seed $seed --overwrite_output_dir"
      ]
    },
    {
      "cell_type": "markdown",
      "metadata": {
        "id": "XtKFtiKZa59Z"
      },
      "source": [
        "## Fine-tuning a model on QA task\n",
        "ORCA has one QA task `qa`"
      ]
    },
    {
      "cell_type": "code",
      "execution_count": null,
      "metadata": {
        "id": "njmiL6OCCei7"
      },
      "outputs": [],
      "source": [
        "task='qa'\n",
        "cache_dir='./cache'\n",
        "le=5e-5\n",
        "model_name='UBC-NLP/MARBERTv2'\n",
        "output_dir='./output/'+task\n",
        "seed=41"
      ]
    },
    {
      "cell_type": "code",
      "execution_count": null,
      "metadata": {
        "id": "9JyDEfeLCORe"
      },
      "outputs": [],
      "source": [
        "!python run_orca_qa.py \\\n",
        "    --model_name_or_path  $model_name \\\n",
        "    --dataset_name  \"UBC-NLP/orca\" \\\n",
        "    --dataset_config_name $task \\\n",
        "    --cache_dir $cache_dir \\\n",
        "    --do_train \\\n",
        "    --do_eval \\\n",
        "    --do_predict \\\n",
        "    --per_device_train_batch_size 12 \\\n",
        "    --learning_rate 3e-5 \\\n",
        "    --num_train_epochs 3 \\\n",
        "    --max_seq_length 384 \\\n",
        "    --doc_stride 128 \\\n",
        "    --output_dir $output_dir \\\n",
        "    --seed $seed #--overwrite_output_dir"
      ]
    },
    {
      "cell_type": "code",
      "execution_count": null,
      "metadata": {
        "id": "fgMfO-SXLANp"
      },
      "outputs": [],
      "source": []
    }
  ],
  "metadata": {
    "accelerator": "GPU",
    "colab": {
      "provenance": [],
      "include_colab_link": true
    },
    "gpuClass": "standard",
    "kernelspec": {
      "display_name": "Python 3",
      "name": "python3"
    },
    "language_info": {
      "name": "python"
    }
  },
  "nbformat": 4,
  "nbformat_minor": 0
}